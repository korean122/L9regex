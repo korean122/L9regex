{
 "cells": [
  {
   "cell_type": "markdown",
   "metadata": {
    "id": "JxPj4pnuIah2"
   },
   "source": [
    "Домашнее задание к лекции «Регулярные выражения и основы синтаксического разбора»\n"
   ]
  },
  {
   "cell_type": "markdown",
   "metadata": {
    "id": "SDEk0kWOId51"
   },
   "source": [
    "**Задание 1**\n",
    "\n",
    "Напишите функцию, которая принимает на вход строку и проверяет является ли она валидным транспортным номером (1 буква, 3 цифры, 2 буквы, 2-3 цифры). Обратите внимание, что не все буквы кириллического алфавита используются в транспортных номерах.\n",
    "Если номер валиден, то функция должна возвращать отдельно номер и регион.\n",
    "Примеры работы программы:\n",
    "\n",
    "car_id = 'А222BС96’\n",
    "Результат: Номер А222BС валиден. Регион: 96\n",
    "car_id = 'АБ22ВВ193’\n",
    "Результат: Номер не валиден"
   ]
  },
  {
   "cell_type": "code",
   "execution_count": 73,
   "metadata": {
    "id": "niUSLFeRIZ0O"
   },
   "outputs": [],
   "source": [
    "import re"
   ]
  },
  {
   "cell_type": "code",
   "execution_count": 92,
   "metadata": {},
   "outputs": [],
   "source": [
    "def check_number (gnz):\n",
    "    \"\"\"\n",
    "    проверяет правильность государственного номера и выводит сведения о регионе если номер указан верно\n",
    "    \"\"\"\n",
    "    number_ = re.findall(r'^[АВЕКМНОРСТУХABEKMHOPCTYX]\\d{3}(?<!000)[АВЕКМНОРСТУХABEKMHOPCTYX]{2}(?!0*$)\\d*$' , gnz)\n",
    "    if len(number_) > 0:\n",
    "        gnz_ = re.findall(r'^[АВЕКМНОРСТУХABEKMHOPCTYX]\\d{3}(?<!000)[АВЕКМНОРСТУХABEKMHOPCTYX]{2}(?!0*$)\\d*$' , gnz)\n",
    "        region_gnz = re.findall(r'(?!0*$)\\d*$' , gnz)\n",
    "        return(f'Номер {gnz_[0]} валиден. Регион: {region_gnz[0]}')\n",
    "    else:\n",
    "        return(f'Номер {car_id} не валиден')"
   ]
  },
  {
   "cell_type": "code",
   "execution_count": 93,
   "metadata": {},
   "outputs": [
    {
     "name": "stdout",
     "output_type": "stream",
     "text": [
      "Введите гос. номер: A222BC96\n"
     ]
    }
   ],
   "source": [
    "car_id = input('Введите гос. номер: ')"
   ]
  },
  {
   "cell_type": "code",
   "execution_count": 94,
   "metadata": {
    "id": "UOYtBE1GI0TA"
   },
   "outputs": [
    {
     "name": "stdout",
     "output_type": "stream",
     "text": [
      "Номер A222BC96 валиден. Регион: 96\n"
     ]
    }
   ],
   "source": [
    "print(check_number(car_id))"
   ]
  },
  {
   "cell_type": "markdown",
   "metadata": {
    "id": "_HZi5EuIIiB0"
   },
   "source": [
    "**Задание 2**\n",
    "\n",
    "Напишите функцию, которая будет удалять все последовательные повторы слов из заданной строки при помощи регулярных выражений.\n",
    "\n",
    "Пример работы программы:\n",
    "\n",
    "some_string = ‘Напишите функцию функцию, которая будет будет будет будет удалять все все все все последовательные повторы слов из из из из заданной строки строки при помощи регулярных выражений’\n",
    "\n",
    "Результат: Напишите функцию, которая будет удалять все последовательные повторы слов из заданной строки при помощи регулярных выражений."
   ]
  },
  {
   "cell_type": "code",
   "execution_count": 96,
   "metadata": {
    "id": "d8Dq_8vhI6eP"
   },
   "outputs": [],
   "source": [
    "some_string = 'Напишите функцию функцию, которая будет будет будет будет удалять все все все все последовательные повторы cлов из из из из заданной строки строки при помощи регулярных выражений'"
   ]
  },
  {
   "cell_type": "code",
   "execution_count": 98,
   "metadata": {
    "id": "hLUud6RmI-t3"
   },
   "outputs": [],
   "source": [
    "def del_dub(string):\n",
    "    '''\n",
    "    Удаляет все повторы слов\n",
    "    '''\n",
    "    return re.sub(r'(\\s\\w+)\\1+', r'\\1', string)"
   ]
  },
  {
   "cell_type": "code",
   "execution_count": 99,
   "metadata": {
    "id": "_YHCUev4JAdx"
   },
   "outputs": [
    {
     "data": {
      "text/plain": [
       "'Напишите функцию, которая будет удалять все последовательные повторы cлов из заданной строки при помощи регулярных выражений'"
      ]
     },
     "execution_count": 99,
     "metadata": {},
     "output_type": "execute_result"
    }
   ],
   "source": [
    "del_dub(some_string)"
   ]
  },
  {
   "cell_type": "markdown",
   "metadata": {
    "id": "czszFY-tIlH2"
   },
   "source": [
    "**Задание 3**\n",
    "Напишите функцию, которая будет возвращать акроним по переданной в нее строке со словами.\n",
    "Примеры работы программы:\n",
    "some_words = 'Информационные технологии’ Результат: ИТ\n",
    "some_words = 'Near Field Communication’ Результат: NFC"
   ]
  },
  {
   "cell_type": "code",
   "execution_count": 100,
   "metadata": {
    "id": "AOvpMsmiJDFw"
   },
   "outputs": [],
   "source": [
    "def acronym(in_string):\n",
    "    '''\n",
    "    Возвращает акроним словосочетания\n",
    "    '''\n",
    "    return re.sub(r'(\\B\\w+\\s*\\b)', r'', in_string).upper()"
   ]
  },
  {
   "cell_type": "code",
   "execution_count": 101,
   "metadata": {
    "id": "5OzeaXeKJEeI"
   },
   "outputs": [],
   "source": [
    "some_words = 'Информационные технологии'"
   ]
  },
  {
   "cell_type": "code",
   "execution_count": 102,
   "metadata": {
    "id": "0sPR9GV_JF_n"
   },
   "outputs": [
    {
     "data": {
      "text/plain": [
       "'ИТ'"
      ]
     },
     "execution_count": 102,
     "metadata": {},
     "output_type": "execute_result"
    }
   ],
   "source": [
    "acronym(some_words)"
   ]
  },
  {
   "cell_type": "code",
   "execution_count": 103,
   "metadata": {
    "id": "hTE6XaUyJHYn"
   },
   "outputs": [],
   "source": [
    "some_words = 'Near Field Communication'"
   ]
  },
  {
   "cell_type": "code",
   "execution_count": 104,
   "metadata": {
    "id": "UcCotQjMJKAP"
   },
   "outputs": [
    {
     "data": {
      "text/plain": [
       "'NFC'"
      ]
     },
     "execution_count": 104,
     "metadata": {},
     "output_type": "execute_result"
    }
   ],
   "source": [
    "acronym(some_words)"
   ]
  },
  {
   "cell_type": "markdown",
   "metadata": {
    "id": "3DNIU2ZyIn09"
   },
   "source": [
    "**Задание 4**\n",
    "\n",
    "Напишите функцию, которая будет принимать на вход список email-адресов и выводить их распределение по доменным зонам.\n",
    "Пример работы программы:\n",
    "emails = [‘test@gmail.com, xyz@test.in, test@ya.ru, xyz@mail.ru, xyz@ya.ru’, xyz@gmail.com]\n",
    "Результат:\n",
    "gmail.com: 2 test.in: 1 ya.ru: 2 mail.ru: 1"
   ]
  },
  {
   "cell_type": "code",
   "execution_count": 105,
   "metadata": {
    "id": "gejOxKCTJNB4"
   },
   "outputs": [],
   "source": [
    "emails = ['test@gmail.com', 'xyz@test.in', 'test@ya.ru', 'xyz@mail.ru', 'xyz@ya.ru', 'xyz@gmail.com']"
   ]
  },
  {
   "cell_type": "code",
   "execution_count": 106,
   "metadata": {
    "id": "5qlD3OAQJPPQ"
   },
   "outputs": [],
   "source": [
    "def domain_count(in_list):\n",
    "    '''\n",
    "    Рассчитывает число повторений каждой доменной зоны\n",
    "    '''\n",
    "    # переводим список в строку через join для обработки через регулярные выражения\n",
    "    domain_list = re.findall(r'(?!\\w+@)\\w+.\\w+', \" \".join(in_list))\n",
    "    # для проверки числа вхождений создаем вспомогательное множество\n",
    "    # с помощью set c уникальными доменными именами\n",
    "    for domain_el in set(domain_list):\n",
    "        print(f'{domain_el}: {domain_list.count(domain_el)}')"
   ]
  },
  {
   "cell_type": "code",
   "execution_count": 107,
   "metadata": {
    "id": "J8a-t4PkJRFh"
   },
   "outputs": [
    {
     "name": "stdout",
     "output_type": "stream",
     "text": [
      "mail.ru: 1\n",
      "gmail.com: 2\n",
      "test.in: 1\n",
      "ya.ru: 2\n"
     ]
    }
   ],
   "source": [
    "domain_count(emails)"
   ]
  },
  {
   "cell_type": "markdown",
   "metadata": {
    "id": "nropDbEmIpw-"
   },
   "source": [
    "**Задание 5** (необязательное)\n",
    "\n",
    "Напишите функцию, которая будет подсчитывать сколько слов начинается на гласные, а сколько на согласные буквы в тексте (текст может быть написан как с использованием букв кириллицы, так и латиницы).\n",
    "Пример работы программы:\n",
    "some_text = ‘Эталонной реализацией Python является интерпретатор CPython, поддерживающий большинство активно используемых платформ. Он распространяется под свободной лицензией Python Software Foundation License, позволяющей использовать его без ограничений в любых приложениях, включая проприетарные.’\n",
    "Результат:\n",
    "Слов на гласные буквы: 9 Слов на согласные буквы: 21"
   ]
  },
  {
   "cell_type": "code",
   "execution_count": 108,
   "metadata": {
    "id": "mRlfgIK7JTkj"
   },
   "outputs": [],
   "source": [
    "some_text = 'Эталонной реализацией Python является интерпретатор CPython, поддерживающий большинство активно используемых платформ. Он распространяется под свободной лицензией Python Software Foundation License, позволяющей использовать его без ограничений в любых приложениях, включая проприетарные.'"
   ]
  },
  {
   "cell_type": "code",
   "execution_count": 109,
   "metadata": {
    "id": "c20ngUMXJUIZ"
   },
   "outputs": [],
   "source": [
    "def words_count(in_string):\n",
    "    '''\n",
    "    Считает количество слов, начинающихся с гласных и согласных букв русского и латинского алфавита\n",
    "    '''\n",
    "    # используем ранее написанную функцию для получение акронима фразы\n",
    "    # удаляем все небуквенные символы\n",
    "    temp = re.sub(r'[\\s!?.,-]', '', acronym(some_text))\n",
    "    vovels = len(re.findall(r'[А, У, О, Ы, И, Э, Я, Ю, Ё, Е, A, E, I, O, U, Y]', temp))\n",
    "    return f'Результат:\\nСлов на гласные буквы: {vovels}\\nСлов на согласные буквы: {len(temp)-vovels}'"
   ]
  },
  {
   "cell_type": "code",
   "execution_count": 110,
   "metadata": {
    "id": "rv3rSssiJWzh"
   },
   "outputs": [
    {
     "name": "stdout",
     "output_type": "stream",
     "text": [
      "Результат:\n",
      "Слов на гласные буквы: 9\n",
      "Слов на согласные буквы: 21\n"
     ]
    }
   ],
   "source": [
    "print(words_count(some_text))"
   ]
  },
  {
   "cell_type": "markdown",
   "metadata": {},
   "source": [
    "**Задание 6** (необязательное)\n",
    "\n",
    "Напишите функцию, которая будет проверять номер сотового телефона на валидность, если он валиден, то переводить его в формат:\n",
    "+7-xxx-xxx-xx-xx\n",
    "Постарайтесь предусмотреть как можно больше адекватных форматов изначального ввода номера. Примеры работы программы:\n",
    "\n",
    "phone = '+7 955 555-55-55’\n",
    "Результат: +7-950-555-55-55\n",
    "\n",
    "phone = '8(955)555-55-55’\n",
    "Результат: +7-950-555-55-55\n",
    "\n",
    "phone = '+7 955 555 55 55’\n",
    "Результат: +7-950-555-55-55\n",
    "\n",
    "phone = '7(955) 555-55-55’\n",
    "Результат: +7-950-555-55-55\n",
    "\n",
    "phone = '423-555-55-5555’\n",
    "Результат: Номер не валиден\n",
    "\n",
    "phone = '123-456-789’\n",
    "Результат: Номер не валиден"
   ]
  },
  {
   "cell_type": "code",
   "execution_count": 114,
   "metadata": {
    "id": "UGBiTM4tJYxR"
   },
   "outputs": [],
   "source": [
    "def phone_converter(in_number):\n",
    "    temp = re.sub(r'[+\\s()-]', '', phone)\n",
    "    if len(temp) != 11 or \"\".join(re.findall(r'\\b\\d{1}', temp)) not in ['8', '7']:\n",
    "        return f'Результат: Номер не валиден'\n",
    "    else:\n",
    "        return re.sub(r'(\\d{1})(\\d{3})(\\d{3})(\\d{2})(\\d{2})', r'+7-\\2-\\3-\\4-\\5', temp)"
   ]
  },
  {
   "cell_type": "code",
   "execution_count": 115,
   "metadata": {
    "id": "5ZrpPP3JJavH"
   },
   "outputs": [],
   "source": [
    "phone = '+7 955 555-55-55'"
   ]
  },
  {
   "cell_type": "code",
   "execution_count": 116,
   "metadata": {
    "id": "hgi2MDddJcFr"
   },
   "outputs": [
    {
     "data": {
      "text/plain": [
       "'+7-955-555-55-55'"
      ]
     },
     "execution_count": 116,
     "metadata": {},
     "output_type": "execute_result"
    }
   ],
   "source": [
    "phone_converter(phone)"
   ]
  }
 ],
 "metadata": {
  "colab": {
   "collapsed_sections": [],
   "name": "HW9.ipynb",
   "provenance": []
  },
  "kernelspec": {
   "display_name": "Python 3",
   "language": "python",
   "name": "python3"
  },
  "language_info": {
   "codemirror_mode": {
    "name": "ipython",
    "version": 3
   },
   "file_extension": ".py",
   "mimetype": "text/x-python",
   "name": "python",
   "nbconvert_exporter": "python",
   "pygments_lexer": "ipython3",
   "version": "3.8.8"
  }
 },
 "nbformat": 4,
 "nbformat_minor": 1
}
