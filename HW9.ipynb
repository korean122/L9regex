{
  "nbformat": 4,
  "nbformat_minor": 0,
  "metadata": {
    "colab": {
      "name": "HW9.ipynb",
      "provenance": [],
      "collapsed_sections": []
    },
    "kernelspec": {
      "name": "python3",
      "display_name": "Python 3"
    },
    "language_info": {
      "name": "python"
    }
  },
  "cells": [
    {
      "cell_type": "markdown",
      "metadata": {
        "id": "JxPj4pnuIah2"
      },
      "source": [
        "Домашнее задание к лекции «Регулярные выражения и основы синтаксического разбора»\n"
      ]
    },
    {
      "cell_type": "markdown",
      "metadata": {
        "id": "SDEk0kWOId51"
      },
      "source": [
        "Задание 1\n",
        "Напишите функцию, которая принимает на вход строку и проверяет является ли она валидным транспортным номером (1 буква, 3 цифры, 2 буквы, 2-3 цифры). Обратите внимание, что не все буквы кириллического алфавита используются в транспортных номерах.\n",
        "Если номер валиден, то функция должна возвращать отдельно номер и регион.\n",
        "Примеры работы программы:\n",
        "\n",
        "car_id = 'А222BС96’\n",
        "Результат: Номер А222BС валиден. Регион: 96\n",
        "car_id = 'АБ22ВВ193’\n",
        "Результат: Номер не валиден"
      ]
    },
    {
      "cell_type": "code",
      "metadata": {
        "id": "niUSLFeRIZ0O"
      },
      "source": [
        "import re"
      ],
      "execution_count": null,
      "outputs": []
    },
    {
      "cell_type": "code",
      "metadata": {
        "id": "qRd2JCfPIv6V"
      },
      "source": [
        "def check_num(in_num):\n",
        "    out_num = re.findall(r'[АВЕКМНОРСТУХABEKMHOPCTYX]{1}\\d{3}[АВЕКМНОРСТУХABEKMHOPCTYX]{2}\\d{2}', in_num)\n",
        "    out_reg = re.findall(r'(?<=\\w{1}\\d{3}\\w{2})\\d{2}', *out_str)\n",
        "    if out_num:\n",
        "        return f'Результат: Номер {\"\".join(out_num)} валиден. Регион: {\"\".join(out_reg)}'\n",
        "    return 'Результат: Номер не валиден'"
      ],
      "execution_count": null,
      "outputs": []
    },
    {
      "cell_type": "code",
      "metadata": {
        "id": "pannqUkMIygf"
      },
      "source": [
        "car_id = 'А222BС96'"
      ],
      "execution_count": null,
      "outputs": []
    },
    {
      "cell_type": "code",
      "metadata": {
        "id": "UOYtBE1GI0TA"
      },
      "source": [
        "print(check_num(car_id))"
      ],
      "execution_count": null,
      "outputs": []
    },
    {
      "cell_type": "code",
      "metadata": {
        "id": "4ml9gSXcI2GX"
      },
      "source": [
        "car_id = 'АБ22ВВ193'"
      ],
      "execution_count": null,
      "outputs": []
    },
    {
      "cell_type": "code",
      "metadata": {
        "id": "BZiG4P6AI3xv"
      },
      "source": [
        "print(check_num(car_id))"
      ],
      "execution_count": null,
      "outputs": []
    },
    {
      "cell_type": "markdown",
      "metadata": {
        "id": "_HZi5EuIIiB0"
      },
      "source": [
        "Задание 2\n",
        "Напишите функцию, которая будет удалять все последовательные повторы слов из заданной строки при помощи регулярных выражений.\n",
        "\n",
        "Пример работы программы:\n",
        "\n",
        "some_string = ‘Напишите функцию функцию, которая будет будет будет будет удалять все все все все последовательные повторы слов из из из из заданной строки строки при помощи регулярных выражений’\n",
        "\n",
        "Результат: Напишите функцию, которая будет удалять все последовательные повторы слов из заданной строки при помощи регулярных выражений."
      ]
    },
    {
      "cell_type": "code",
      "metadata": {
        "id": "d8Dq_8vhI6eP"
      },
      "source": [
        "some_string = 'Напишите функцию функцию, которая будет будет будет будет удалять все все все все последовательные повторы cлов из из из из заданной строки строки при помощи регулярных выражений'"
      ],
      "execution_count": null,
      "outputs": []
    },
    {
      "cell_type": "code",
      "metadata": {
        "id": "hLUud6RmI-t3"
      },
      "source": [
        "def dub_kill(in_string):\n",
        "    '''\n",
        "    Удаляет все повторы слов в строке\n",
        "    '''\n",
        "    return re.sub(r'(\\s\\w+)\\1+', r'\\1', some_string)"
      ],
      "execution_count": null,
      "outputs": []
    },
    {
      "cell_type": "code",
      "metadata": {
        "id": "_YHCUev4JAdx"
      },
      "source": [
        "dub_kill(some_string)"
      ],
      "execution_count": null,
      "outputs": []
    },
    {
      "cell_type": "markdown",
      "metadata": {
        "id": "czszFY-tIlH2"
      },
      "source": [
        "Задание 3\n",
        "Напишите функцию, которая будет возвращать акроним по переданной в нее строке со словами.\n",
        "\n",
        "Примеры работы программы:\n",
        "\n",
        "some_words = 'Информационные технологии’ Результат: ИТ\n",
        "\n",
        "some_words = 'Near Field Communication’ Результат: NFC"
      ]
    },
    {
      "cell_type": "code",
      "metadata": {
        "id": "AOvpMsmiJDFw"
      },
      "source": [
        "def acronym(in_string):\n",
        "    '''\n",
        "    Возвращает акроним словосочетания\n",
        "    '''\n",
        "    return re.sub(r'(\\B\\w+\\s*\\b)', r'', in_string).upper()"
      ],
      "execution_count": null,
      "outputs": []
    },
    {
      "cell_type": "code",
      "metadata": {
        "id": "5OzeaXeKJEeI"
      },
      "source": [
        "some_words = 'Информационные технологии'"
      ],
      "execution_count": null,
      "outputs": []
    },
    {
      "cell_type": "code",
      "metadata": {
        "id": "0sPR9GV_JF_n"
      },
      "source": [
        "acronym(some_words)"
      ],
      "execution_count": null,
      "outputs": []
    },
    {
      "cell_type": "code",
      "metadata": {
        "id": "hTE6XaUyJHYn"
      },
      "source": [
        "some_words = 'Near Field Communication'"
      ],
      "execution_count": null,
      "outputs": []
    },
    {
      "cell_type": "code",
      "metadata": {
        "id": "UcCotQjMJKAP"
      },
      "source": [
        "acronym(some_words)"
      ],
      "execution_count": null,
      "outputs": []
    },
    {
      "cell_type": "markdown",
      "metadata": {
        "id": "3DNIU2ZyIn09"
      },
      "source": [
        "Задание 4¶\n",
        "Напишите функцию, которая будет принимать на вход список email-адресов и выводить их распределение по доменным зонам.\n",
        "\n",
        "Пример работы программы:\n",
        "\n",
        "emails = [‘test@gmail.com, xyz@test.in, test@ya.ru, xyz@mail.ru, xyz@ya.ru’, xyz@gmail.com]\n",
        "\n",
        "Результат:\n",
        "\n",
        "gmail.com: 2 test.in: 1 ya.ru: 2 mail.ru: 1"
      ]
    },
    {
      "cell_type": "code",
      "metadata": {
        "id": "gejOxKCTJNB4"
      },
      "source": [
        "emails = ['test@gmail.com', 'xyz@test.in', 'test@ya.ru', 'xyz@mail.ru', 'xyz@ya.ru', 'xyz@gmail.com']"
      ],
      "execution_count": null,
      "outputs": []
    },
    {
      "cell_type": "code",
      "metadata": {
        "id": "5qlD3OAQJPPQ"
      },
      "source": [
        "def domain_count(in_list):\n",
        "    '''\n",
        "    Рассчитывает число повторений каждой доменной зоны\n",
        "    '''\n",
        "    # переводим список в строку через join для обработки через регулярные выражения\n",
        "    domain_list = re.findall(r'(?!\\w+@)\\w+.\\w+', \" \".join(in_list))\n",
        "    # для проверки числа вхождений создаем вспомогательное множество\n",
        "    # с помощью set c уникальными доменными именами\n",
        "    for domain_el in set(domain_list):\n",
        "        print(f'{domain_el}: {domain_list.count(domain_el)}')"
      ],
      "execution_count": null,
      "outputs": []
    },
    {
      "cell_type": "code",
      "metadata": {
        "id": "J8a-t4PkJRFh"
      },
      "source": [
        "domain_count(emails)"
      ],
      "execution_count": null,
      "outputs": []
    },
    {
      "cell_type": "markdown",
      "metadata": {
        "id": "nropDbEmIpw-"
      },
      "source": [
        "Задание 5 (необязательное)\n",
        "Напишите функцию, которая будет подсчитывать сколько слов начинается на гласные, а сколько на согласные буквы в тексте (текст может быть написан как с использованием букв кириллицы, так и латиницы).\n",
        "\n",
        "Пример работы программы:\n",
        "\n",
        "some_text = ‘Эталонной реализацией Python является интерпретатор CPython, поддерживающий большинство активно используемых платформ. Он распространяется под свободной лицензией Python Software Foundation License, позволяющей использовать его без ограничений в любых приложениях, включая проприетарные.’\n",
        "\n",
        "Результат:\n",
        "\n",
        "Слов на гласные буквы: 9 Слов на согласные буквы: 21"
      ]
    },
    {
      "cell_type": "code",
      "metadata": {
        "id": "mRlfgIK7JTkj"
      },
      "source": [
        "some_text = 'Эталонной реализацией Python является интерпретатор CPython, поддерживающий большинство активно используемых платформ. Он распространяется под свободной лицензией Python Software Foundation License, позволяющей использовать его без ограничений в любых приложениях, включая проприетарные.'"
      ],
      "execution_count": null,
      "outputs": []
    },
    {
      "cell_type": "code",
      "metadata": {
        "id": "c20ngUMXJUIZ"
      },
      "source": [
        "def words_count(in_string):\n",
        "    '''\n",
        "    Считает количество слов, начинающихся с гласных и согласных букв русского и латинского алфавита\n",
        "    '''\n",
        "    # используем ранее написанную функцию для получение акронима фразы\n",
        "    # удаляем все небуквенные символы\n",
        "    temp = re.sub(r'[\\s!?.,-]', '', acronym(some_text))\n",
        "    vovels = len(re.findall(r'[А, У, О, Ы, И, Э, Я, Ю, Ё, Е, A, E, I, O, U, Y]', temp))\n",
        "    return f'Результат:\\nСлов на гласные буквы: {vovels}\\nСлов на согласные буквы: {len(temp)-vovels}'"
      ],
      "execution_count": null,
      "outputs": []
    },
    {
      "cell_type": "code",
      "metadata": {
        "id": "rv3rSssiJWzh"
      },
      "source": [
        "print(words_count(some_text))"
      ],
      "execution_count": null,
      "outputs": []
    },
    {
      "cell_type": "markdown",
      "metadata": {
        "id": "XJR6seGgIrXV"
      },
      "source": [
        "Задание 6 (необязательное)\n",
        "Напишите функцию, которая будет проверять номер сотового телефона на валидность, если он валиден, то переводить его в формат: +7-xxx-xxx-xx-xx Постарайтесь предусмотреть как можно больше адекватных форматов изначального ввода номера. Примеры работы программы:\n",
        "\n",
        "phone = '+7 955 555-55-55’ Результат: +7-950-555-55-55\n",
        "\n",
        "phone = '8(955)555-55-55’ Результат: +7-950-555-55-55\n",
        "\n",
        "phone = '+7 955 555 55 55’ Результат: +7-950-555-55-55\n",
        "\n",
        "phone = '7(955) 555-55-55’ Результат: +7-950-555-55-55\n",
        "\n",
        "phone = '423-555-55-5555’ Результат: Номер не валиден\n",
        "\n",
        "phone = '123-456-789’ Результат: Номер не валиден"
      ]
    },
    {
      "cell_type": "code",
      "metadata": {
        "id": "UGBiTM4tJYxR"
      },
      "source": [
        "def phone_converter(in_number):\n",
        "    temp = re.sub(r'[+\\s()-]', '', phone)\n",
        "    if len(temp) != 11 or \"\".join(re.findall(r'\\b\\d{1}', temp)) not in ['8', '7']:\n",
        "        return f'Результат: Номер не валиден'\n",
        "    else:\n",
        "        return re.sub(r'(\\d{1})(\\d{3})(\\d{3})(\\d{2})(\\d{2})', r'+7-\\2-\\3-\\4-\\5', temp)"
      ],
      "execution_count": null,
      "outputs": []
    },
    {
      "cell_type": "code",
      "metadata": {
        "id": "5ZrpPP3JJavH"
      },
      "source": [
        "phone = '+7 955 555-55-55'"
      ],
      "execution_count": null,
      "outputs": []
    },
    {
      "cell_type": "code",
      "metadata": {
        "id": "hgi2MDddJcFr"
      },
      "source": [
        "phone_converter(phone)"
      ],
      "execution_count": null,
      "outputs": []
    },
    {
      "cell_type": "code",
      "metadata": {
        "id": "5v7fK9wDJduZ"
      },
      "source": [
        "phone = '8(955)555-55-55'"
      ],
      "execution_count": null,
      "outputs": []
    },
    {
      "cell_type": "code",
      "metadata": {
        "id": "-H8tw8dJJfq1"
      },
      "source": [
        "phone_converter(phone)"
      ],
      "execution_count": null,
      "outputs": []
    },
    {
      "cell_type": "code",
      "metadata": {
        "id": "7S3jDknqJhkD"
      },
      "source": [
        "phone = '+7 955 555 55 55'"
      ],
      "execution_count": null,
      "outputs": []
    },
    {
      "cell_type": "code",
      "metadata": {
        "id": "3OmPW5anJi3L"
      },
      "source": [
        "phone_converter(phone)"
      ],
      "execution_count": null,
      "outputs": []
    },
    {
      "cell_type": "code",
      "metadata": {
        "id": "9vKIX11rJkNt"
      },
      "source": [
        "phone = '7(955) 555-55-55'"
      ],
      "execution_count": null,
      "outputs": []
    },
    {
      "cell_type": "code",
      "metadata": {
        "id": "DDef04DrJndz"
      },
      "source": [
        "phone_converter(phone)"
      ],
      "execution_count": null,
      "outputs": []
    },
    {
      "cell_type": "code",
      "metadata": {
        "id": "xxSQCoewJo-D"
      },
      "source": [
        "phone = '423-555-55-5555'"
      ],
      "execution_count": null,
      "outputs": []
    },
    {
      "cell_type": "code",
      "metadata": {
        "id": "RNXroZ_gJqOs"
      },
      "source": [
        "phone_converter(phone)"
      ],
      "execution_count": null,
      "outputs": []
    },
    {
      "cell_type": "code",
      "metadata": {
        "id": "EiyTOHr7JrwD"
      },
      "source": [
        "phone = '123-456-789'"
      ],
      "execution_count": null,
      "outputs": []
    },
    {
      "cell_type": "code",
      "metadata": {
        "id": "f32LZuenJtLa"
      },
      "source": [
        "phone_converter(phone)"
      ],
      "execution_count": null,
      "outputs": []
    }
  ]
}